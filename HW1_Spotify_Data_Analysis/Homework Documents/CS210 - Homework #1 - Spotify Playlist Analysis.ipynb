{
 "cells": [
  {
   "cell_type": "markdown",
   "id": "25bcef74",
   "metadata": {},
   "source": [
    "# CS210 - Homework #1: Spotify Playlist Analysis\n"
   ]
  },
  {
   "cell_type": "markdown",
   "id": "9b102f0d",
   "metadata": {},
   "source": [
    "Exploratory Data Analysis is a fundamental process in the field of data science that helps us gain insights into a dataset by summarizing its main characteristics and identifying patterns and relationships within the data. In this assignment, we will be applying exploratory data analysis techniques to a Spotify playlist to better understand the characteristics of the songs in the playlist. Through this exercise, we will learn scraping, visualize distributions, and uncover insights that can help us make informed decisions about the playlist's content and structure. Whether you are a music lover, aspiring data scientist, or simply interested in exploring the power of data, this assignment will provide you with a hands-on experience in exploratory data analysis that you can apply to any dataset. **You have unlimited freedom to use ChatGPT for this assignment, and we recommend it. Please do not forget to save your ChatGPT chats. Do not use different chats, and do not delete your chat history after you complete the assignment. Besides your notebook, you must also submit for your ChatGPT chat links.**\n",
    "\n",
    "\n",
    "**In this homework, we offer you 2 ways to get data.**\n",
    "\n",
    "1 - In this assignment, you will analyze a playlist, and this playlist is available as a table on a website. You can scrape the table from this website, we provide HTML content for this. There is a possibility to retrieve the data using BeautifulSoup. You can also get the table directly from the URL using Selenium, and this way will probably be easier. The homework will start with this part and if you successfully capture the data and use it in the homework, you will start with 25 points.\n",
    "\n",
    "2 - If you do not want to deal with scraping, we will also provide you with the CSV version of the dataset, and you can use it directly. In this case, naturally you will not have completed the scraping part, but you will still be able to complete the remaining parts of the assignment, and you will not receive any points for the scraping part.\n",
    "\n",
    "\n",
    "\n",
    "\n",
    "Below, you can find all the set of features, provided in the dataset:\n",
    "\n",
    "1. **Song:** The name of the track.\n",
    "2. **Artist:** The name of the artist or group that performed the song.\n",
    "3. **Popularity:** A numerical measure of the song's popularity.\n",
    "4. **BPM (Beats Per Minute):** The tempo or speed of the song in beats per minute.\n",
    "5. **Genres:** The musical genres associated with the song.\n",
    "6. **Parent Genres:** The broader or parent musical genres of the song.\n",
    "7. **Album:** The name of the album containing the song.\n",
    "8. **Album Date:** The release date of the album.\n",
    "9. **Time:** The duration of the song in minutes and seconds.\n",
    "10. **Dance:** A numerical value indicating danceability.\n",
    "11. **Energy:** A numerical value representing the energy level of the song.\n",
    "12. **Acoustic:** A numerical value indicating the acousticness of the song.\n",
    "13. **Instrumental:** A numerical value indicating the instrumentalness of the song.\n",
    "14. **Happy:** A numerical value representing the mood or happiness of the song.\n",
    "15. **Speech:** A numerical value indicating the presence of speech or lyrics in the song.\n",
    "16. **Live:** Indicates if the song is a live recording (1 for live, 0 for studio).\n",
    "17. **Loud:** A numerical value indicating the loudness of the song.\n",
    "18. **Key:** The musical key in which the song is composed.\n",
    "19. **Time Signature:** The time signature of the song.\n",
    "20. **Added At:** The date or timestamp when the song was added to the dataset.\n",
    "21. **Spotify Track Id:** Unique identifiers assigned to each track by Spotify.\n",
    "22. **Album Label:** The name of the record label associated with the album.\n",
    "23. **Camelot:** Information about the musical key or tonal center of the song.\n",
    "24. **Spotify Track Img:** URLs or references to images associated with the Spotify tracks.\n"
   ]
  },
  {
   "cell_type": "code",
   "execution_count": 1,
   "id": "358bd436",
   "metadata": {},
   "outputs": [],
   "source": [
    "import pandas as pd\n",
    "import numpy as np\n",
    "import matplotlib.pyplot as plt\n",
    "import seaborn as sns\n",
    "import bs4\n",
    "import requests"
   ]
  },
  {
   "cell_type": "markdown",
   "id": "1a0403bd",
   "metadata": {},
   "source": [
    "## Q1: Scraping  (25 points)"
   ]
  },
  {
   "cell_type": "markdown",
   "id": "d0fde0aa",
   "metadata": {},
   "source": [
    "If you want to scrape the playlist, you can retrieve the data using [this playlist analyzer website](https://www.chosic.com/spotify-playlist-analyzer/?plid=4wyQnWDDys6T8A2ni96VfG). Here, you should take the Playlist Table, which contains the songs' information, and convert it to DataFrame. As we mentioned at the beginning of the assignment, using Selenium may be a more logical solution since the content of the site is dynamic. But you are also free to use BeautifulSoup, or read the file directly and start data analysis. If you want to use BeautifulSoup, we provided the static version of the webpage. "
   ]
  },
  {
   "cell_type": "code",
   "execution_count": 2,
   "id": "76a8cc84",
   "metadata": {
    "scrolled": true
   },
   "outputs": [],
   "source": [
    "#SCRAPING WAY - 25 POINTS"
   ]
  },
  {
   "cell_type": "code",
   "execution_count": 3,
   "id": "f4552107",
   "metadata": {
    "scrolled": true
   },
   "outputs": [],
   "source": [
    "#READ THE DATA DIRECTLY - 0 PTS"
   ]
  },
  {
   "cell_type": "markdown",
   "id": "ef3194a7",
   "metadata": {},
   "source": [
    "Spotify Track Img, Song Preview columns may not be in the data we got from scraping, but we will not use these columns. So you can ignore this columns."
   ]
  },
  {
   "cell_type": "markdown",
   "id": "cd16bd0e",
   "metadata": {},
   "source": [
    "## Q2: Exploring the Dataset (35 points)"
   ]
  },
  {
   "cell_type": "markdown",
   "id": "5062af49",
   "metadata": {},
   "source": [
    "Since we complete the scraping, we can finally start deep-diving into the dataset. Now, follow the instructions."
   ]
  },
  {
   "cell_type": "code",
   "execution_count": 4,
   "id": "f44b54d7",
   "metadata": {},
   "outputs": [],
   "source": [
    "#2pts - show the first 3 rows"
   ]
  },
  {
   "cell_type": "code",
   "execution_count": 5,
   "id": "1718dfa6",
   "metadata": {},
   "outputs": [],
   "source": [
    "#1pts - show the info of dataframe"
   ]
  },
  {
   "cell_type": "code",
   "execution_count": 6,
   "id": "b7dac89e",
   "metadata": {},
   "outputs": [],
   "source": [
    "#2pts - give the statistical summary of numerical columns"
   ]
  },
  {
   "cell_type": "markdown",
   "id": "9b3155c1",
   "metadata": {},
   "source": [
    "Let's learn more about our dataset. There are various genres in playlists but some of them are more frequent than others. Your task is to determine the top 10 most frequent genres present in the data. Please consider that some songs have multiple genres. And at the end print top 10 genres with their counts."
   ]
  },
  {
   "cell_type": "code",
   "execution_count": 7,
   "id": "3424e8f4",
   "metadata": {
    "scrolled": true
   },
   "outputs": [],
   "source": [
    "#5pts"
   ]
  },
  {
   "cell_type": "markdown",
   "id": "b189f07e",
   "metadata": {},
   "source": [
    "Let's make the analysis a little more detailed. Specifically, you are required to find and display the top 5 most popular music genres based on their average popularity score, but please only consider genres that appear more than 10 times in the dataset. And at the end print top_genres with their popularity score."
   ]
  },
  {
   "cell_type": "code",
   "execution_count": 8,
   "id": "3187ff08",
   "metadata": {},
   "outputs": [],
   "source": [
    "#6pts"
   ]
  },
  {
   "cell_type": "markdown",
   "id": "7c60431e",
   "metadata": {},
   "source": [
    "Our dataset contains lots of technical information about the music. Still, we can create different columns for better information source. In this question, we will apply a pretty basic feature engineering approach. Here you need to categorize the music according to popularity and BPM.There will be two new columns named \"Popularity_Category\" and \"BPM_Category\". Let it be \"High\" if its popularity is above the 75th percentile, \"Medium\" if it falls between 25 and 75 (inclusive), and \"Low\" for all the others. For BPM, if it is below 100, call it \"Slow\", if it is between 100 and 130 (inclusive), call it \"Medium\", and if it is greater than 130, let it be \"Fast\". Once the categorization is complete, print the value counts for both 'Popularity_Category' and 'BPM_Category'."
   ]
  },
  {
   "cell_type": "code",
   "execution_count": 9,
   "id": "fb716630",
   "metadata": {},
   "outputs": [],
   "source": [
    "#5pts"
   ]
  },
  {
   "cell_type": "markdown",
   "id": "5934e50b",
   "metadata": {},
   "source": [
    "Let's test our filtering skills. Filtering is a significant skill in data science because in many cases you will only need some part of the dataset. In this question, we will filter a song called Crying Lightning by Arctic Monkeys. It's not a song that is arbitrarily chosen by the assistant, you can also take it as a recommendation. :)"
   ]
  },
  {
   "cell_type": "code",
   "execution_count": 10,
   "id": "3f45b5e7",
   "metadata": {},
   "outputs": [],
   "source": [
    "#3pts"
   ]
  },
  {
   "cell_type": "markdown",
   "id": "97adf6d0",
   "metadata": {},
   "source": [
    "Let's do a more advanced filtering operation. Display the name of the most common album among the tracks that have a \"High\" popularity, a \"Fast\" BPM, and are also above the 75th percentile in loudness.\n",
    "\n"
   ]
  },
  {
   "cell_type": "code",
   "execution_count": 11,
   "id": "9fc8d2b9",
   "metadata": {
    "scrolled": false
   },
   "outputs": [],
   "source": [
    "#6pts"
   ]
  },
  {
   "cell_type": "markdown",
   "id": "908e0038",
   "metadata": {},
   "source": [
    "Now, display the Camelot code that is most common among the tracks that belong to the top 10% in terms of popularity.\n",
    "\n"
   ]
  },
  {
   "cell_type": "code",
   "execution_count": 12,
   "id": "2e96fbbf",
   "metadata": {},
   "outputs": [],
   "source": [
    "#5pts"
   ]
  },
  {
   "cell_type": "markdown",
   "id": "76803b5a",
   "metadata": {},
   "source": [
    "## Q3: Visualization and Analysis (40 points)"
   ]
  },
  {
   "cell_type": "markdown",
   "id": "a443861f",
   "metadata": {},
   "source": [
    "We learned many things about our dataset. Now let's create some visualizations using tools like Matplotlib, Seaborn etc. To warm up let's start with some univariate analysis. \n",
    "\n",
    "For the first question:\n",
    "\n",
    "- Create a subplot matrix.\n",
    "- Create a histogram for the 'Popularity_Category' variable with a bin size of 30, the color should be red.\n",
    "- Set the title of the first subplot as 'Popularities.'\n",
    "- Set the label for the y-axis as 'Frequencies.'\n",
    "- Set the label for the x-axis as 'Popularity Category.'\n",
    "- Set the boundaries for the y-axis as 0 to 200.\n",
    "- Repeat the above steps for the 'BPM_Category' variable, creating a histogram with a bin size of 30 in the second subplot, the color should be blue.\n",
    "- Set the title of the second subplot as 'BPM Categories.'\n",
    "- Set the label for the y-axis as 'Frequencies.'\n",
    "- Set the label for the x-axis as 'BPM Category.'\n",
    "- Set the boundaries for the y-axis as 0 to 200."
   ]
  },
  {
   "cell_type": "code",
   "execution_count": 13,
   "id": "105d881d",
   "metadata": {
    "scrolled": true
   },
   "outputs": [],
   "source": [
    "#2pts\n"
   ]
  },
  {
   "cell_type": "markdown",
   "id": "836c2652",
   "metadata": {},
   "source": [
    "Now let's do some bi-variate analysis. If we want to plot the relationship between Energy and Loudness, think that which plot would be the appropriate choice.\n",
    "\n",
    "Visualize the relationship between the two according to the plot you choose. Loudness bounds must be -2-20 and energy limits must be 0-100. "
   ]
  },
  {
   "cell_type": "code",
   "execution_count": 14,
   "id": "59059134",
   "metadata": {},
   "outputs": [],
   "source": [
    "#3pts"
   ]
  },
  {
   "cell_type": "markdown",
   "id": "0478fa50",
   "metadata": {},
   "source": [
    "Now, create the plot which displays the average popularity of music albums over the years, with each data point representing a year, you can use a line graph with markers, and includes labels and appropriate y-limits ( It must be 5 units below the minimum popularity and 5 units above the maximum popularity.)  You can also rotate the x tick values ​​by 45 degrees. \n"
   ]
  },
  {
   "cell_type": "code",
   "execution_count": 15,
   "id": "834c778c",
   "metadata": {},
   "outputs": [],
   "source": [
    "#6pts"
   ]
  },
  {
   "cell_type": "markdown",
   "id": "9f570b71",
   "metadata": {},
   "source": [
    "Now, let's create a plot that illustrates the average popularity of music albums across the months of the year. The plot should be in the form of a line graph with markers, with the x-axis representing the months (in a custom order from January to December) and the y-axis representing the average popularity. Make sure to include appropriate labels and set the y-axis limits to be 5 units below the minimum popularity and 5 units above the maximum popularity. Additionally, rotate the x-axis tick values by 45 degrees for better readability. "
   ]
  },
  {
   "cell_type": "code",
   "execution_count": 16,
   "id": "f21e57fd",
   "metadata": {},
   "outputs": [],
   "source": [
    "#7pts\n"
   ]
  },
  {
   "cell_type": "markdown",
   "id": "d78afda9",
   "metadata": {},
   "source": [
    "Let's create more sophisticated plot. In this question you will also make some operations on the dataset again.\n",
    "\n",
    "Visualize and compare the BPM (Beats Per Minute) levels in the music of four different artists: Lorde, Big Thief, Wolf Alice and Phoebe Bridgers. The data is presented in a countplot with three categories for BPM levels: Slow, Medium, and Fast. Each artist's contribution to each BPM category is shown using a different color. The y-axis represents the frequency of songs falling into each BPM category. Set the y-axis limits to a range of 0 to 10 for better clarity.\n",
    "\n",
    "You already see the answer below as an example, you can use inferno as the color code. There may be slight differences in styling, but we expect a very similar answer. Please be careful with the order of x-axis.\n"
   ]
  },
  {
   "cell_type": "markdown",
   "id": "c23869fc",
   "metadata": {},
   "source": [
    "<img src=\"https://i.imgur.com/EAk2mcB.png\" alt=\"barplot-210\" border=\"0\" width=\"500\">\n"
   ]
  },
  {
   "cell_type": "code",
   "execution_count": 17,
   "id": "8ffd7342",
   "metadata": {},
   "outputs": [],
   "source": [
    "#7pts"
   ]
  },
  {
   "cell_type": "markdown",
   "id": "4f6982af",
   "metadata": {},
   "source": [
    "We are approaching the end. Visualize the aggregated Energy and Acoustic values of songs categorized by the top 10 most common genres in the dataset.\n",
    "\n",
    "The final visualization should be a stacked bar chart where each bar represents one of the top 10 genres, and the height of the colored segments within each bar denotes the sum of Energy and Acoustic values for songs in that genre. This allows for a quick comparative view of how energetic or acoustic songs from each of the top genres tend to be.\n",
    "\n",
    "You already see the answer below as an example, you can use ['#669bbc', '#003049'] colors. There may be slight differences in styling, but we expect a very similar answer.\n"
   ]
  },
  {
   "cell_type": "markdown",
   "id": "33541312",
   "metadata": {},
   "source": [
    "<img src=\"https://i.imgur.com/eM0q688.png\" alt=\"barplot-210\" border=\"0\" width=\"500\">\n"
   ]
  },
  {
   "cell_type": "code",
   "execution_count": 18,
   "id": "a55ccd62",
   "metadata": {},
   "outputs": [],
   "source": [
    "#7pts"
   ]
  },
  {
   "cell_type": "markdown",
   "id": "6538dce6",
   "metadata": {},
   "source": [
    "Now, show the correlations of numerical columns in a heatmap, don't forget that you must only use numerical columns. You can use inferno as a color map."
   ]
  },
  {
   "cell_type": "code",
   "execution_count": 2,
   "id": "a2c7de0d",
   "metadata": {},
   "outputs": [],
   "source": [
    "#4pts"
   ]
  },
  {
   "cell_type": "markdown",
   "id": "092f05cf",
   "metadata": {},
   "source": [
    "And we will conclude the assignment with a simple question. Though this question isn't directly related to visualization, you must retrieve and print the HTML content of the chat URL you used in ChatGPT using BeautifulSoup. "
   ]
  },
  {
   "cell_type": "code",
   "execution_count": 3,
   "id": "99fce349",
   "metadata": {},
   "outputs": [
    {
     "name": "stdout",
     "output_type": "stream",
     "text": [
      "HTML content: \n"
     ]
    }
   ],
   "source": [
    "#4pts\n",
    "print(\"HTML content: \")"
   ]
  },
  {
   "cell_type": "markdown",
   "id": "84b32c14",
   "metadata": {},
   "source": [
    "Congratulations! You've reached the end of your assignment. In this assignment, we dealt with data questions about albums, artists, and many music related data over Spotify data. I hope it has been a fun process.\n",
    "\n",
    "**If you want to listen to the playlist we analyzed:**\n",
    "https://open.spotify.com/playlist/4wyQnWDDys6T8A2ni96VfG?si=1c69c078d81f47f5\n",
    "\n",
    "See you later!\n",
    "    \n",
    "<img src=\"https://i.imgur.com/KSbQFe7.png\" alt=\"barplot-210\" border=\"0\" width=\"300\">\n",
    "\n",
    "***dall-e prompt***: an oil painting of data science student does homework in pain\n",
    "\n"
   ]
  },
  {
   "cell_type": "code",
   "execution_count": null,
   "id": "6cf1c067",
   "metadata": {},
   "outputs": [],
   "source": []
  },
  {
   "cell_type": "code",
   "execution_count": null,
   "id": "3e9683e4",
   "metadata": {},
   "outputs": [],
   "source": []
  }
 ],
 "metadata": {
  "kernelspec": {
   "display_name": "Python 3 (ipykernel)",
   "language": "python",
   "name": "python3"
  },
  "language_info": {
   "codemirror_mode": {
    "name": "ipython",
    "version": 3
   },
   "file_extension": ".py",
   "mimetype": "text/x-python",
   "name": "python",
   "nbconvert_exporter": "python",
   "pygments_lexer": "ipython3",
   "version": "3.11.5"
  }
 },
 "nbformat": 4,
 "nbformat_minor": 5
}
